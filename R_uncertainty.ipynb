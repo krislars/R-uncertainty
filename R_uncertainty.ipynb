{
  "nbformat": 4,
  "nbformat_minor": 0,
  "metadata": {
    "colab": {
      "name": "R-uncertainty.ipynb",
      "version": "0.3.2",
      "provenance": [],
      "include_colab_link": true
    }
  },
  "cells": [
    {
      "cell_type": "markdown",
      "metadata": {
        "id": "view-in-github",
        "colab_type": "text"
      },
      "source": [
        "<a href=\"https://colab.research.google.com/github/krislars/R-uncertainty/blob/master/R_uncertainty.ipynb\" target=\"_parent\"><img src=\"https://colab.research.google.com/assets/colab-badge.svg\" alt=\"Open In Colab\"/></a>"
      ]
    },
    {
      "metadata": {
        "id": "6-AWC7fMP96N",
        "colab_type": "code",
        "colab": {}
      },
      "cell_type": "code",
      "source": [
        "# For running in Google Colaboratory:\n",
        "!pip install astropy\n",
        "!pip install dust_extinction\n",
        "!pip install synphot"
      ],
      "execution_count": 0,
      "outputs": []
    },
    {
      "metadata": {
        "id": "HeXfZVkFB9mD",
        "colab_type": "code",
        "colab": {}
      },
      "cell_type": "code",
      "source": [
        "import matplotlib.pyplot as plt\n",
        "%matplotlib inline\n",
        "import numpy as np\n",
        "import astropy.units as u\n",
        "from astropy.table import Table\n",
        "from dust_extinction.dust_extinction import CCM89, F99"
      ],
      "execution_count": 0,
      "outputs": []
    },
    {
      "metadata": {
        "id": "58ojjbkxQLer",
        "colab_type": "text"
      },
      "cell_type": "markdown",
      "source": [
        "# Introduction"
      ]
    },
    {
      "metadata": {
        "id": "lkaFXDpKQ4dv",
        "colab_type": "text"
      },
      "cell_type": "markdown",
      "source": [
        "Dust in the interstellar medium (ISM) extinguishes background starlight.  The wavelength dependence of the extinction is such that short-wavelength light is extinguished more than long-wavelength light, and we call this effect *reddening*.\n",
        "\n",
        "If you're new to extinction, here is a brief introduction to the types of quantities involved.\n",
        "The fractional change to the flux of starlight is \n",
        "$$\n",
        "\\frac{dF_\\lambda}{F_\\lambda} = -\\tau_\\lambda\n",
        "$$\n",
        "where $\\tau$ is the optical depth.  This means that resultant flux must be an exponential function of optical depth,\n",
        "$$\n",
        "\\tau_\\lambda = -\\ln\\left(\\frac{F_\\lambda}{F_{\\lambda,0}}\\right).\n",
        "$$\n",
        "\n",
        "We usually changes bases from $e$ to 10,  \n",
        "$$\n",
        "\\tau_\\lambda = -2.303\\log\\left(\\frac{F_\\lambda}{F_{\\lambda,0}}\\right),\n",
        "$$\n",
        "and given how we define magnitudes, it is convenient to define an extinction $A_\\lambda = 1.086 \\,\\tau_\\lambda$ so that\n",
        "$$\n",
        "A_\\lambda = -2.5\\log\\left(\\frac{F_\\lambda}{F_{\\lambda,0}}\\right).\n",
        "$$\n",
        "\n"
      ]
    },
    {
      "metadata": {
        "id": "AuzGOe-LQSC8",
        "colab_type": "text"
      },
      "cell_type": "markdown",
      "source": [
        "# Normal Distribution for Comparison"
      ]
    },
    {
      "metadata": {
        "id": "h-xrIrjzRclB",
        "colab_type": "text"
      },
      "cell_type": "markdown",
      "source": [
        "Sam: P326-style propagation"
      ]
    },
    {
      "metadata": {
        "id": "HBQnI20dQVUA",
        "colab_type": "text"
      },
      "cell_type": "markdown",
      "source": [
        "# Photometric Uncertainty"
      ]
    },
    {
      "metadata": {
        "id": "zsuFqkKBQ8Ow",
        "colab_type": "text"
      },
      "cell_type": "markdown",
      "source": [
        "Aidan: Uncertainty introduced by background SED\n",
        "\n",
        "Sam: Measurement uncertainty"
      ]
    },
    {
      "metadata": {
        "id": "S0hIxvtDQfrC",
        "colab_type": "text"
      },
      "cell_type": "markdown",
      "source": [
        "# Spectral Type Uncertainty"
      ]
    },
    {
      "metadata": {
        "id": "XzeNKg_kRu59",
        "colab_type": "text"
      },
      "cell_type": "markdown",
      "source": [
        "##Sam: Uncertainty in intrinsic colors\n"
      ]
    },
    {
      "metadata": {
        "id": "lX3ayQeLAOlK",
        "colab_type": "text"
      },
      "cell_type": "markdown",
      "source": [
        "##Megan: Uncertainty in knowledge of spectral type"
      ]
    },
    {
      "metadata": {
        "id": "6NfhmHz-_5Yz",
        "colab_type": "code",
        "colab": {}
      },
      "cell_type": "code",
      "source": [
        "intHK=np.array([-0.1,-0.09,-0.09,-0.09,-0.09,-0.08,-0.09,-0.06,-0.07,-0.05,-0.06,-0.05,-0.05,-0.03,0,0.0025,0.005,0.0083,\n",
        "            0.0117,0.015,0.02,0.025,0.0267,0.0283,0.03,0.0325,0.035,0.0367,0.0383,0.04,0.0425,0.045,0.0467,0.0483,\n",
        "            0.05,0.051,0.052,0.0535,0.055,0.0575,0.06,0.06375,0.0675,0.07125,0.075,0.0825,0.09,0.0975,0.105,0.11,0.12,\n",
        "            0.13,0.14217,0.1533,0.165,0.2,0.21,0.25,0.275,0.32,0.37])\n",
        "\n",
        "intJH=np.array([-0.065,-0.065,-0.075,-0.095,-0.095,-0.075,-0.025,-0.045,-0.035,-0.045,-0.025,-0.025,-0.005,0.005,0,0.01,\n",
        "            0.02,0.033,0.0467,0.06,0.075,0.09,0.103,0.117,0.13,0.1475,0.165,0.187,0.208,0.23,0.258,0.285,0.292,0.298,\n",
        "            0.305,0.3125,0.32,0.325,0.33,0.35,0.37,0.39,0.41,0.43,0.45,0.475,0.5,0.54,0.58,0.61,0.635,0.66,0.6717,\n",
        "            0.683,0.695,0.68,0.665,0.62,0.6,0.62,0.6])\n",
        "\n",
        "SpType=np.array(['O6V','O7V','O8V','O9V','B0V','B1V','B2V','B3V','B4V','B5V','B6V','B7V','B8V','B9V',\n",
        "            'A0V','A1V','A2V','A3V','A4V','A5V','A6V','A7V','A8V','A9V',\n",
        "            'F0V','F1V','F2V','F3V','F4V','F5V','F6V','F7V','F8V','F9V',\n",
        "            'G0V','G1V','G2V','G3V','G4V','G5V','G6V','G7V','G8V','G9V',\n",
        "            'K0V','K1V','K2V','K3V','K4V','K5V','K6V','K7V','K8V','K9V',\n",
        "            'M0V','M1V','M2V','M3V','M4V','M5V','M6V'])\n",
        "\n",
        "x=np.arange(intHK.size)\n",
        "\n"
      ],
      "execution_count": 0,
      "outputs": []
    },
    {
      "metadata": {
        "id": "QZeqATTVAAIw",
        "colab_type": "code",
        "colab": {}
      },
      "cell_type": "code",
      "source": [
        "def prob_bins(x,meanbin,stdbin):\n",
        "    # Create the probability distribution:\n",
        "    lowedge, highedge = np.arange(len(x))-0.5,np.arange(len(x))+0.5 # put items at bin centers\n",
        "    prob_bins = ss.norm.cdf(highedge, loc=meanbin, \n",
        "                            scale = stdbin)-ss.norm.cdf(lowedge, loc=meanbin, scale = stdbin)\n",
        "    prob_bins = prob_bins / prob_bins.sum() # normalize the probabilities so their sum is 1\n",
        "\n",
        "    return prob_bins"
      ],
      "execution_count": 0,
      "outputs": []
    },
    {
      "metadata": {
        "id": "j-fOHSGwAA4t",
        "colab_type": "code",
        "colab": {}
      },
      "cell_type": "code",
      "source": [
        "#now to make a function that will put the left and right side of each spectral type into my 2d array\n",
        "\n",
        "\n",
        "for k in sptypes:  #going through each spectral type and assigning it to meanbin \n",
        "  meanbin = k\n",
        "  stdbins = 2\n",
        "  \n",
        "  for i in range(0,90,1):       #changing the losEHK from 0.1 to 1 \n",
        "    losR=1.6\n",
        "    losEHK=los[i]         #this goes from 0.1 to 1 in incriments of 0.1\n",
        "    losEJH=losR*losEHK\n",
        "\n",
        "    # Calculate the error-free photometry, all spectral types\n",
        "    simJH=losEJH+intJH\n",
        "    simHK=losEHK+intHK\n",
        "  \n",
        "  \n",
        "    # Sample the probability distribution:\n",
        "    # customize the probability distribution\n",
        "    prob = prob_bins(x,meanbin,stdbins) \n",
        "    # randomly choose a set of bin indices based on that probability\n",
        "    nums = np.random.choice(x, size = 100000, p = prob) \n",
        "\n",
        "    R=(simJH[meanbin]-intJH[nums])/(simHK[meanbin]-intHK[nums])\n"
      ],
      "execution_count": 0,
      "outputs": []
    },
    {
      "metadata": {
        "id": "FQurD4T1Qkxv",
        "colab_type": "text"
      },
      "cell_type": "markdown",
      "source": [
        "# Putting It All Together"
      ]
    },
    {
      "metadata": {
        "id": "N35JO60mSs5D",
        "colab_type": "text"
      },
      "cell_type": "markdown",
      "source": [
        "TBA (to be assigned):  Uncertainty when simultaneously fitting star and dust"
      ]
    }
  ]
}