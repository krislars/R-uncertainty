{
  "nbformat": 4,
  "nbformat_minor": 0,
  "metadata": {
    "colab": {
      "name": "MonteCarloModeling.ipynb",
      "version": "0.3.2",
      "provenance": [],
      "include_colab_link": true
    },
    "kernelspec": {
      "display_name": "Python 3",
      "language": "python",
      "name": "python3"
    }
  },
  "cells": [
    {
      "cell_type": "markdown",
      "metadata": {
        "id": "view-in-github",
        "colab_type": "text"
      },
      "source": [
        "<a href=\"https://colab.research.google.com/github/krislars/R-uncertainty/blob/master/MonteCarloModeling.ipynb\" target=\"_parent\"><img src=\"https://colab.research.google.com/assets/colab-badge.svg\" alt=\"Open In Colab\"/></a>"
      ]
    },
    {
      "metadata": {
        "id": "oHvCxXOdNtG6",
        "colab_type": "code",
        "colab": {}
      },
      "cell_type": "code",
      "source": [
        "import random\n",
        "import numpy as np\n",
        "import numpy.random as npRand\n",
        "from matplotlib import pyplot as plt"
      ],
      "execution_count": 0,
      "outputs": []
    },
    {
      "metadata": {
        "id": "glTrrResNtHK",
        "colab_type": "code",
        "colab": {}
      },
      "cell_type": "code",
      "source": [
        "%matplotlib inline"
      ],
      "execution_count": 0,
      "outputs": []
    },
    {
      "metadata": {
        "id": "x_ueJHiSNtHM",
        "colab_type": "code",
        "colab": {}
      },
      "cell_type": "code",
      "source": [
        ""
      ],
      "execution_count": 0,
      "outputs": []
    },
    {
      "metadata": {
        "id": "p9jN6cgBO7nI",
        "colab_type": "text"
      },
      "cell_type": "markdown",
      "source": [
        "Data file format is intrinsic stellar H-K, sigma H-K, J-H, sigma J-H ... (Sam will check this and add a reference)"
      ]
    },
    {
      "metadata": {
        "id": "vYlpPR9aNtHP",
        "colab_type": "code",
        "colab": {}
      },
      "cell_type": "code",
      "source": [
        "starData = np.loadtxt(\"https://raw.githubusercontent.com/krislars/R-uncertainty/master/Astro%20Lab%20Star%20Data.txt\")\n",
        "starData = np.transpose(starData)\n",
        "B, dB = starData[0], starData[1]\n",
        "D, dD = starData[2], starData[3]"
      ],
      "execution_count": 0,
      "outputs": []
    },
    {
      "metadata": {
        "id": "5OFMufD1PQLo",
        "colab_type": "text"
      },
      "cell_type": "markdown",
      "source": [
        "This next line is propagation of error in an arithmetic function."
      ]
    },
    {
      "metadata": {
        "id": "UfbjC0rcNtHR",
        "colab_type": "code",
        "colab": {}
      },
      "cell_type": "code",
      "source": [
        "#calculating theoretical dR\n",
        "dR = 1.6 *(dB**2 + .02**2 + 1.6 *(dD**2 + .02**2))**0.5"
      ],
      "execution_count": 0,
      "outputs": []
    },
    {
      "metadata": {
        "id": "sPCdsLuhNtHU",
        "colab_type": "code",
        "colab": {}
      },
      "cell_type": "code",
      "source": [
        ""
      ],
      "execution_count": 0,
      "outputs": []
    },
    {
      "metadata": {
        "id": "8qSH1eItPYMs",
        "colab_type": "text"
      },
      "cell_type": "markdown",
      "source": [
        "This function takes a vector of values and a vector of associated uncertainties and returns an array of n = numVals samples selected randomly from a normal  probability distribution."
      ]
    },
    {
      "metadata": {
        "id": "R6BBvp4zNtHX",
        "colab_type": "code",
        "colab": {}
      },
      "cell_type": "code",
      "source": [
        "#choosing random data sets for each star type\n",
        "def getData(mean, sigma, numVals):\n",
        "    data = np.array(\n",
        "        [npRand.normal(m, s, numVals) for m, s in zip(mean, sigma)]\n",
        "    )\n",
        "    return data"
      ],
      "execution_count": 0,
      "outputs": []
    },
    {
      "metadata": {
        "id": "42I5Fm77NtHZ",
        "colab_type": "code",
        "colab": {}
      },
      "cell_type": "code",
      "source": [
        "B_vals = getData(B, dB, 1000)\n",
        "D_vals = getData(D, dD, 1000)"
      ],
      "execution_count": 0,
      "outputs": []
    },
    {
      "metadata": {
        "id": "1njMm2hcQlCz",
        "colab_type": "text"
      },
      "cell_type": "markdown",
      "source": [
        "$$\n",
        "R = \\frac{A-B}{C-D}\n",
        "$$\n",
        "\n",
        "We will choose values such that the numerator is 1.  So, $A=1+B$.  We also choose the value of R to be 1.6, so $C-D=1/1.6$.  Therefore, $C = 1/1.6+D$.\n",
        "\n"
      ]
    },
    {
      "metadata": {
        "id": "rPy5nKcDNtHc",
        "colab_type": "code",
        "colab": {}
      },
      "cell_type": "code",
      "source": [
        "A = 1 + B\n",
        "C = 1/1.6 + D\n",
        "dA = np.linspace(0.02, 0.02, 50)\n",
        "A_vals = getData(A, dA, 1000)\n",
        "C_vals = getData(C, dA, 1000)"
      ],
      "execution_count": 0,
      "outputs": []
    },
    {
      "metadata": {
        "id": "p5bnGFLtNtHf",
        "colab_type": "code",
        "colab": {}
      },
      "cell_type": "code",
      "source": [
        ""
      ],
      "execution_count": 0,
      "outputs": []
    },
    {
      "metadata": {
        "id": "Rt9Fz0F0NtHi",
        "colab_type": "code",
        "colab": {}
      },
      "cell_type": "code",
      "source": [
        "#calculating the \"Monte Carlo\" values for R and dR\n",
        "R_vals = (A_vals - B_vals) / (C_vals - D_vals)\n"
      ],
      "execution_count": 0,
      "outputs": []
    },
    {
      "metadata": {
        "id": "fvS2KtOMS29z",
        "colab_type": "text"
      },
      "cell_type": "markdown",
      "source": [
        "Now, we can test the distributions of R."
      ]
    },
    {
      "metadata": {
        "id": "WBmPLyv7TV0Q",
        "colab_type": "code",
        "colab": {}
      },
      "cell_type": "code",
      "source": [
        "R_mc = np.mean(R_vals, axis=1)\n",
        "dR_mc = np.std(R_vals, axis=1)"
      ],
      "execution_count": 0,
      "outputs": []
    },
    {
      "metadata": {
        "id": "PZRywdePS1ol",
        "colab_type": "code",
        "colab": {
          "base_uri": "https://localhost:8080/",
          "height": 282
        },
        "outputId": "a0064556-4624-49af-db0f-2650ea086bbc"
      },
      "cell_type": "code",
      "source": [
        "plt.plot(R_mc,'ro')"
      ],
      "execution_count": 18,
      "outputs": [
        {
          "output_type": "execute_result",
          "data": {
            "text/plain": [
              "[<matplotlib.lines.Line2D at 0x7f37ac6a87b8>]"
            ]
          },
          "metadata": {
            "tags": []
          },
          "execution_count": 18
        },
        {
          "output_type": "display_data",
          "data": {
            "image/png": "[encoded data removed]",
            "text/plain": [
              "<matplotlib.figure.Figure at 0x7f37ac730470>"
            ]
          },
          "metadata": {
            "tags": []
          }
        }
      ]
    },
    {
      "metadata": {
        "id": "Yc1d2lUnUOSx",
        "colab_type": "text"
      },
      "cell_type": "markdown",
      "source": [
        "Ideas going forward:\n",
        "* Calculate the uncertainty in the mean.\n",
        "* Try a weighted mean\n",
        "* Try making all the errors the same\n",
        "* Try making the errors very small\n",
        "* Test that you are resetting the random number *seed* \n",
        "\n"
      ]
    },
    {
      "metadata": {
        "id": "pOIKC-ICNtHo",
        "colab_type": "code",
        "colab": {}
      },
      "cell_type": "code",
      "source": [
        "#Next I need to test \"Goodness of fit\"\n",
        "\n"
      ],
      "execution_count": 0,
      "outputs": []
    },
    {
      "metadata": {
        "id": "k-cTKn2LNtHm",
        "colab_type": "code",
        "colab": {}
      },
      "cell_type": "code",
      "source": [
        ""
      ],
      "execution_count": 0,
      "outputs": []
    }
  ]
}