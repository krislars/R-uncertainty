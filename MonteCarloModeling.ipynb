{
 "cells": [
  {
   "cell_type": "markdown",
   "metadata": {
    "colab_type": "text",
    "id": "view-in-github"
   },
   "source": [
    "<a href=\"https://colab.research.google.com/github/krislars/R-uncertainty/blob/master/MonteCarloModeling.ipynb\" target=\"_parent\"><img src=\"https://colab.research.google.com/assets/colab-badge.svg\" alt=\"Open In Colab\"/></a>"
   ]
  },
  {
   "cell_type": "code",
   "execution_count": 1,
   "metadata": {
    "colab": {},
    "colab_type": "code",
    "id": "oHvCxXOdNtG6"
   },
   "outputs": [],
   "source": [
    "import random\n",
    "import numpy as np\n",
    "import numpy.random as npRand\n",
    "from matplotlib import pyplot as plt\n",
    "import scipy.stats as stats"
   ]
  },
  {
   "cell_type": "code",
   "execution_count": 2,
   "metadata": {
    "colab": {},
    "colab_type": "code",
    "id": "glTrrResNtHK"
   },
   "outputs": [],
   "source": [
    "%matplotlib inline"
   ]
  },
  {
   "cell_type": "code",
   "execution_count": null,
   "metadata": {
    "colab": {},
    "colab_type": "code",
    "id": "x_ueJHiSNtHM"
   },
   "outputs": [],
   "source": []
  },
  {
   "cell_type": "markdown",
   "metadata": {
    "colab_type": "text",
    "id": "p9jN6cgBO7nI"
   },
   "source": [
    "Data file format is intrinsic stellar H-K, sigma H-K, J-H, sigma J-H ... \n",
    "Davenport, J. R., Ivezic, Z., Becker, A. C., Ruan, J. J., Hunt-Walker, N. M., Covey, K. R., & Lewis, A. R. (2014, June). The SDSS-2MASS-WISE 10-dimensional stellar colour locus [Electronic version]. MNRAS, 440(4), 3430-3438."
   ]
  },
  {
   "cell_type": "code",
   "execution_count": 3,
   "metadata": {
    "colab": {},
    "colab_type": "code",
    "id": "vYlpPR9aNtHP"
   },
   "outputs": [],
   "source": [
    "starData = np.loadtxt(\"https://raw.githubusercontent.com/krislars/R-uncertainty/master/Astro%20Lab%20Star%20Data.txt\")\n",
    "starData = np.transpose(starData)\n",
    "B, dB = starData[0], starData[1]\n",
    "D, dD = starData[2], starData[3]"
   ]
  },
  {
   "cell_type": "markdown",
   "metadata": {
    "colab_type": "text",
    "id": "5OFMufD1PQLo"
   },
   "source": [
    "This next line is propagation of error in an arithmetic function."
   ]
  },
  {
   "cell_type": "code",
   "execution_count": 4,
   "metadata": {
    "colab": {},
    "colab_type": "code",
    "id": "UfbjC0rcNtHR"
   },
   "outputs": [],
   "source": [
    "#calculating theoretical dR\n",
    "dR = 1.6 *(dB**2 + .02**2 + 1.6 *(dD**2 + .02**2))**0.5"
   ]
  },
  {
   "cell_type": "code",
   "execution_count": null,
   "metadata": {
    "colab": {},
    "colab_type": "code",
    "id": "sPCdsLuhNtHU"
   },
   "outputs": [],
   "source": []
  },
  {
   "cell_type": "markdown",
   "metadata": {
    "colab_type": "text",
    "id": "8qSH1eItPYMs"
   },
   "source": [
    "This function takes a vector of values and a vector of associated uncertainties and returns an array of n = numVals samples selected randomly from a normal  probability distribution."
   ]
  },
  {
   "cell_type": "code",
   "execution_count": 5,
   "metadata": {
    "colab": {},
    "colab_type": "code",
    "id": "R6BBvp4zNtHX"
   },
   "outputs": [],
   "source": [
    "#choosing random data sets for each star type\n",
    "def getData(mean, sigma, numVals):\n",
    "    data = np.array(\n",
    "        [npRand.normal(m, s, numVals) for m, s in zip(mean, sigma)]\n",
    "    )\n",
    "    return data"
   ]
  },
  {
   "cell_type": "code",
   "execution_count": 13,
   "metadata": {
    "colab": {},
    "colab_type": "code",
    "id": "42I5Fm77NtHZ"
   },
   "outputs": [],
   "source": [
    "B_vals = getData(B, dB, 1000)\n",
    "D_vals = getData(D, dB, 1000)"
   ]
  },
  {
   "cell_type": "markdown",
   "metadata": {
    "colab_type": "text",
    "id": "1njMm2hcQlCz"
   },
   "source": [
    "$$\n",
    "R = \\frac{A-B}{C-D}\n",
    "$$\n",
    "\n",
    "We will choose values such that the numerator is 1.  So, $A=1+B$.  We also choose the value of R to be 1.6, so $C-D=1/1.6$.  Therefore, $C = 1/1.6+D$.\n",
    "\n"
   ]
  },
  {
   "cell_type": "code",
   "execution_count": 14,
   "metadata": {
    "colab": {},
    "colab_type": "code",
    "id": "rPy5nKcDNtHc"
   },
   "outputs": [],
   "source": [
    "diffAB = 1\n",
    "A = diffAB + B\n",
    "C = diffAB/1.6 + D\n",
    "dA = dC = np.linspace(0.02, 0.02, 50)\n",
    "A_vals = getData(A, dA, 1000)\n",
    "C_vals = getData(C, dC, 1000)"
   ]
  },
  {
   "cell_type": "code",
   "execution_count": null,
   "metadata": {
    "colab": {},
    "colab_type": "code",
    "id": "p5bnGFLtNtHf"
   },
   "outputs": [],
   "source": []
  },
  {
   "cell_type": "code",
   "execution_count": 15,
   "metadata": {
    "colab": {},
    "colab_type": "code",
    "id": "Rt9Fz0F0NtHi"
   },
   "outputs": [],
   "source": [
    "#calculating the \"Monte Carlo\" values for R and dR\n",
    "R_vals = (A_vals - B_vals) / (C_vals - D_vals)\n"
   ]
  },
  {
   "cell_type": "markdown",
   "metadata": {
    "colab_type": "text",
    "id": "fvS2KtOMS29z"
   },
   "source": [
    "Now, we can test the distributions of R."
   ]
  },
  {
   "cell_type": "code",
   "execution_count": 16,
   "metadata": {
    "colab": {},
    "colab_type": "code",
    "id": "WBmPLyv7TV0Q"
   },
   "outputs": [],
   "source": [
    "R_mc = np.mean(R_vals, axis=1)\n",
    "dR_mc = np.std(R_vals, axis=1)"
   ]
  },
  {
   "cell_type": "code",
   "execution_count": 21,
   "metadata": {
    "colab": {
     "base_uri": "https://localhost:8080/",
     "height": 282
    },
    "colab_type": "code",
    "id": "PZRywdePS1ol",
    "outputId": "a0064556-4624-49af-db0f-2650ea086bbc"
   },
   "outputs": [
    {
     "data": {
      "image/png": "[encoded data removed]",
      "text/plain": [
       "<Figure size 720x360 with 1 Axes>"
      ]
     },
     "metadata": {},
     "output_type": "display_data"
    }
   ],
   "source": [
    "#Finding the weighted average of R\n",
    "dR_mean = (dR_mc) / (1000)**0.5\n",
    "w = (dR_mean)**(-2)\n",
    "R_avg = sum(w*R_mc) / sum(w)\n",
    "\n",
    "t = np.linspace(0, 50, 200)\n",
    "y = np.linspace(R_avg, R_avg, 200)\n",
    "\n",
    "plt.figure(figsize=(10, 5))\n",
    "line1 = plt.plot(R_mc, 'ro', label='1')\n",
    "line2 = plt.plot(t, y, 'b--', label='2')\n",
    "\n",
    "plt.title('Reddening Factor vs Star Type')\n",
    "plt.xlabel('Star Type')\n",
    "plt.ylabel('Mean Reddening Factor')\n",
    "plt.gca().legend(('Mean Reddening Factor','Weighted Average of the Means'), loc = 'upper left')\n",
    "\n",
    "plt.show()"
   ]
  },
  {
   "cell_type": "markdown",
   "metadata": {
    "colab_type": "text",
    "id": "Yc1d2lUnUOSx"
   },
   "source": [
    "Ideas going forward:\n",
    "* Calculate the uncertainty in the mean.\n",
    "* Try a weighted mean\n",
    "* Try making all the errors the same\n",
    "* Try making the errors very small\n",
    "* Test that you are resetting the random number *seed* \n",
    "\n"
   ]
  },
  {
   "cell_type": "code",
   "execution_count": 18,
   "metadata": {
    "colab": {},
    "colab_type": "code",
    "id": "pOIKC-ICNtHo"
   },
   "outputs": [],
   "source": [
    "#Next I need to test \"Goodness of fit\"\n",
    "numBins = 20\n",
    "counts, Bins = zip(*np.stack(\n",
    "    np.histogram(r_vals, numBins) for r_vals in R_vals\n",
    "))\n",
    "    \n",
    "\n",
    "#calc expected with stats cdf and np.diff\n",
    "exp = np.diff(np.stack(\n",
    "    stats.norm.cdf(bins, r_mc, dr_mc) for bins, r_mc, dr_mc in zip(Bins, R_mc, dR_mc)\n",
    "))\n",
    "\n",
    "#scale expected percentages by sample size\n",
    "exp = 1000 * exp\n",
    "\n",
    "#Now calculate the Chi^2 values:\n",
    "chi2 = np.sum(( (counts - exp)**2 / exp), axis=1)\n"
   ]
  },
  {
   "cell_type": "code",
   "execution_count": 19,
   "metadata": {
    "colab": {},
    "colab_type": "code",
    "id": "k-cTKn2LNtHm"
   },
   "outputs": [
    {
     "data": {
      "text/plain": [
       "array([2.53367690e+00, 1.27989229e+00, 1.55049356e+01, 2.69411671e+00,\n",
       "       2.79168729e+00, 6.22524264e+00, 1.87267551e+00, 2.58652420e+00,\n",
       "       6.17123492e+02, 1.69970400e+00, 2.80524098e+00, 3.52488131e+00,\n",
       "       5.28932524e+00, 2.81018510e+00, 3.07797218e+00, 8.90204344e+00,\n",
       "       2.26281372e+00, 9.01047287e+01, 7.73535026e+00, 7.31077411e+00,\n",
       "       3.88348297e+00, 1.54637830e+00, 9.68404613e-01, 1.35757706e+00,\n",
       "       3.53251374e+00, 3.58862576e+01, 1.24833035e+03, 2.86516218e+00,\n",
       "       7.94796116e+00, 4.01851142e+00, 7.55393081e+00, 1.61809970e+01,\n",
       "       1.17969480e+02, 6.02734297e+01, 3.39201156e+00, 2.32051058e+00,\n",
       "       2.14375596e+00, 2.26392704e+01, 6.13149086e+00, 6.20039063e+00,\n",
       "       1.06456659e+01, 5.61266914e+00, 3.88352426e+00, 4.70589977e+00,\n",
       "       2.58826087e+00, 2.37786447e+00, 2.20509903e+00, 3.88533033e+00,\n",
       "       6.21896571e+00, 4.06968031e+00])"
      ]
     },
     "execution_count": 19,
     "metadata": {},
     "output_type": "execute_result"
    }
   ],
   "source": [
    "chi2/numBins"
   ]
  },
  {
   "cell_type": "code",
   "execution_count": null,
   "metadata": {},
   "outputs": [],
   "source": []
  },
  {
   "cell_type": "code",
   "execution_count": null,
   "metadata": {},
   "outputs": [],
   "source": []
  }
 ],
 "metadata": {
  "colab": {
   "include_colab_link": true,
   "name": "MonteCarloModeling.ipynb",
   "provenance": [],
   "version": "0.3.2"
  },
  "kernelspec": {
   "display_name": "Python 3",
   "language": "python",
   "name": "python3"
  },
  "language_info": {
   "codemirror_mode": {
    "name": "ipython",
    "version": 3
   },
   "file_extension": ".py",
   "mimetype": "text/x-python",
   "name": "python",
   "nbconvert_exporter": "python",
   "pygments_lexer": "ipython3",
   "version": "3.6.5"
  }
 },
 "nbformat": 4,
 "nbformat_minor": 1
}
