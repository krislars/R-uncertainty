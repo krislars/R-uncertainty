{
 "cells": [
  {
   "cell_type": "markdown",
   "metadata": {
    "colab_type": "text",
    "id": "view-in-github"
   },
   "source": [
    "<a href=\"https://colab.research.google.com/github/krislars/R-uncertainty/blob/master/MonteCarloModeling.ipynb\" target=\"_parent\"><img src=\"https://colab.research.google.com/assets/colab-badge.svg\" alt=\"Open In Colab\"/></a>"
   ]
  },
  {
   "cell_type": "code",
   "execution_count": 1,
   "metadata": {},
   "outputs": [
    {
     "name": "stdout",
     "output_type": "stream",
     "text": [
      "Requirement already satisfied: astropy in c:\\programdata\\anaconda3\\lib\\site-packages (3.0.2)\n",
      "Requirement already satisfied: numpy>=1.10.0 in c:\\programdata\\anaconda3\\lib\\site-packages (from astropy) (1.14.3)\n"
     ]
    },
    {
     "name": "stderr",
     "output_type": "stream",
     "text": [
      "distributed 1.21.8 requires msgpack, which is not installed.\n"
     ]
    },
    {
     "name": "stdout",
     "output_type": "stream",
     "text": [
      "Collecting astroquery\n",
      "  Downloading https://files.pythonhosted.org/packages/61/50/a7a08f9e54d7d9d97e69433cd88231e1ad2901811c9d1ae9ac7ccaef9396/astroquery-0.3.9.tar.gz (4.2MB)\n",
      "Requirement already satisfied: astropy>=1.0 in c:\\programdata\\anaconda3\\lib\\site-packages (from astroquery) (3.0.2)\n",
      "Requirement already satisfied: requests>=2.4.3 in c:\\programdata\\anaconda3\\lib\\site-packages (from astroquery) (2.18.4)\n",
      "Collecting keyring>=4.0 (from astroquery)\n",
      "  Downloading https://files.pythonhosted.org/packages/a1/28/0058032477bfdf2003e605d175629963759220661615443e20711446bfa7/keyring-18.0.0-py2.py3-none-any.whl\n",
      "Requirement already satisfied: beautifulsoup4>=4.3.2 in c:\\programdata\\anaconda3\\lib\\site-packages (from astroquery) (4.6.0)\n",
      "Requirement already satisfied: html5lib>=0.999 in c:\\programdata\\anaconda3\\lib\\site-packages (from astroquery) (1.0.1)\n",
      "Requirement already satisfied: numpy>=1.10.0 in c:\\programdata\\anaconda3\\lib\\site-packages (from astropy>=1.0->astroquery) (1.14.3)\n",
      "Requirement already satisfied: chardet<3.1.0,>=3.0.2 in c:\\programdata\\anaconda3\\lib\\site-packages (from requests>=2.4.3->astroquery) (3.0.4)\n",
      "Requirement already satisfied: idna<2.7,>=2.5 in c:\\programdata\\anaconda3\\lib\\site-packages (from requests>=2.4.3->astroquery) (2.6)\n",
      "Requirement already satisfied: urllib3<1.23,>=1.21.1 in c:\\programdata\\anaconda3\\lib\\site-packages (from requests>=2.4.3->astroquery) (1.22)\n",
      "Requirement already satisfied: certifi>=2017.4.17 in c:\\programdata\\anaconda3\\lib\\site-packages (from requests>=2.4.3->astroquery) (2018.4.16)\n",
      "Collecting pywin32-ctypes!=0.1.0,!=0.1.1; sys_platform == \"win32\" (from keyring>=4.0->astroquery)\n",
      "  Downloading https://files.pythonhosted.org/packages/9e/4b/3ab2720f1fa4b4bc924ef1932b842edf10007e4547ea8157b0b9fc78599a/pywin32_ctypes-0.2.0-py2.py3-none-any.whl\n",
      "Requirement already satisfied: entrypoints in c:\\programdata\\anaconda3\\lib\\site-packages (from keyring>=4.0->astroquery) (0.2.3)\n",
      "Requirement already satisfied: six>=1.9 in c:\\programdata\\anaconda3\\lib\\site-packages (from html5lib>=0.999->astroquery) (1.11.0)\n",
      "Requirement already satisfied: webencodings in c:\\programdata\\anaconda3\\lib\\site-packages (from html5lib>=0.999->astroquery) (0.5.1)\n",
      "Building wheels for collected packages: astroquery\n",
      "  Running setup.py bdist_wheel for astroquery: started\n",
      "  Running setup.py bdist_wheel for astroquery: finished with status 'done'\n",
      "  Stored in directory: C:\\Users\\shumans\\AppData\\Local\\pip\\Cache\\wheels\\8a\\d1\\1e\\4124d9ef35e2bbfbaa284c97dd49d9babbab42d966c4bea190\n",
      "Successfully built astroquery\n",
      "Installing collected packages: pywin32-ctypes, keyring, astroquery\n",
      "Successfully installed astroquery-0.3.9 keyring-18.0.0 pywin32-ctypes-0.2.0\n"
     ]
    },
    {
     "name": "stderr",
     "output_type": "stream",
     "text": [
      "distributed 1.21.8 requires msgpack, which is not installed.\n",
      "You are using pip version 10.0.1, however version 19.0.2 is available.\n",
      "You should consider upgrading via the 'python -m pip install --upgrade pip' command.\n"
     ]
    }
   ],
   "source": [
    "!pip install astropy\n",
    "!pip install astroquery"
   ]
  },
  {
   "cell_type": "code",
   "execution_count": 3,
   "metadata": {},
   "outputs": [
    {
     "name": "stdout",
     "output_type": "stream",
     "text": [
      "gzip was not found on your system! You should solve this issue for astroquery.eso to be at its best!\n",
      "On POSIX system: make sure gzip is installed and in your path!On Windows: same for 7-zip (http://www.7-zip.org)!\n"
     ]
    }
   ],
   "source": [
    "import random\n",
    "import numpy as np\n",
    "import numpy.random as npRand\n",
    "from matplotlib import pyplot as plt\n",
    "import scipy.stats as stats\n",
    "from astroquery.vizier import Vizier\n",
    "\n",
    "from ipywidgets import interact\n",
    "from ipywidgets.widgets import FloatSlider"
   ]
  },
  {
   "cell_type": "code",
   "execution_count": 2,
   "metadata": {
    "colab": {},
    "colab_type": "code",
    "id": "glTrrResNtHK"
   },
   "outputs": [],
   "source": [
    "%matplotlib inline"
   ]
  },
  {
   "cell_type": "code",
   "execution_count": null,
   "metadata": {
    "colab": {},
    "colab_type": "code",
    "id": "x_ueJHiSNtHM"
   },
   "outputs": [],
   "source": []
  },
  {
   "cell_type": "code",
   "execution_count": 24,
   "metadata": {},
   "outputs": [],
   "source": [
    "#Defining some parameters:\n",
    "numVals = 1000\n",
    "colorDiffmin = 0.1\n",
    "colorDiffmax = 3\n",
    "numSteps = 100\n",
    "\n",
    "data = 'J/MNRAS/440/3430'\n",
    "rowLimit = -1 #includes all rows\n",
    "\n",
    "color1 = 'J-H'\n",
    "color2 = 'H-Ks'\n",
    "R_exp = 1.6"
   ]
  },
  {
   "cell_type": "code",
   "execution_count": 25,
   "metadata": {},
   "outputs": [],
   "source": [
    "catalog_list = Vizier.find_catalogs('Davenport+')\n",
    "Vizier.ROW_LIMIT = rowLimit\n",
    "catalog = Vizier.get_catalogs(data)\n",
    "\n",
    "starData = catalog[data+'/table1']"
   ]
  },
  {
   "cell_type": "code",
   "execution_count": 26,
   "metadata": {},
   "outputs": [],
   "source": [
    "#MultiDimensional linspace\n",
    "def ndlinspace(start, end, steps):\n",
    "    if (start.shape != end.shape):\n",
    "        print(\"Arrays must be same size\")\n",
    "        return\n",
    "    if (start.ndim == 1):\n",
    "        result = np.array(\n",
    "            [np.linspace(s, e, steps) for s,e in zip(start, end)]\n",
    "        )\n",
    "        return result\n",
    "    result = np.array(\n",
    "        [ndlinspace(s, e, steps) for s,e in zip(start, end)]\n",
    "    )\n",
    "    return result"
   ]
  },
  {
   "cell_type": "code",
   "execution_count": null,
   "metadata": {},
   "outputs": [],
   "source": []
  },
  {
   "cell_type": "markdown",
   "metadata": {
    "colab_type": "text",
    "id": "p9jN6cgBO7nI"
   },
   "source": [
    "Data file format is intrinsic stellar H-K, sigma H-K, J-H, sigma J-H ... \n",
    "Davenport, J. R., Ivezic, Z., Becker, A. C., Ruan, J. J., Hunt-Walker, N. M., Covey, K. R., & Lewis, A. R. (2014, June). The SDSS-2MASS-WISE 10-dimensional stellar colour locus [Electronic version]. MNRAS, 440(4), 3430-3438.\n",
    "\n",
    "$$\n",
    "R = \\frac{A-B}{C-D}\n",
    "$$\n",
    "\n",
    "We will choose values such that the numerator is colorDiff.  So, $A=(colorDiff)+B$.  We also choose the value of R to be R_exp, so $C-D=(colorDiff)/R_{exp}$.  Therefore, $C = (colorDiff)/R_{exp}+D$."
   ]
  },
  {
   "cell_type": "code",
   "execution_count": null,
   "metadata": {},
   "outputs": [],
   "source": []
  },
  {
   "cell_type": "code",
   "execution_count": 27,
   "metadata": {
    "colab": {},
    "colab_type": "code",
    "id": "vYlpPR9aNtHP"
   },
   "outputs": [],
   "source": [
    "#starData = np.loadtxt(\"https://raw.githubusercontent.com/krislars/R-uncertainty/master/Astro%20Lab%20Star%20Data.txt\", unpack=True)\n",
    "\n",
    "B, dB = np.array(starData[color1]), np.array(starData['e_'+color1])\n",
    "D, dD = np.array(starData[color2]), np.array(starData['e_'+color2])\n",
    "\n",
    "n = len(B)\n",
    "colorDiff = np.linspace(colorDiffmin, colorDiffmax, numSteps)\n",
    "colorDiff = np.transpose(ndlinspace(colorDiff, colorDiff, n))\n",
    "\n",
    "B, dB = ndlinspace(B,B,numSteps), ndlinspace(dB,dB,numSteps)\n",
    "D, dD = ndlinspace(D,D,numSteps), ndlinspace(dD,dD,numSteps)\n",
    "\n",
    "A = colorDiff + B\n",
    "C = colorDiff/R_exp + D\n",
    "\n",
    "dA = dC = np.linspace(0.02, 0.02, n)\n",
    "dA = dC = ndlinspace(dA, dA, numSteps)"
   ]
  },
  {
   "cell_type": "markdown",
   "metadata": {
    "colab_type": "text",
    "id": "5OFMufD1PQLo"
   },
   "source": [
    "This next line is propagation of error in an arithmetic function."
   ]
  },
  {
   "cell_type": "code",
   "execution_count": 28,
   "metadata": {
    "colab": {},
    "colab_type": "code",
    "id": "UfbjC0rcNtHR"
   },
   "outputs": [],
   "source": [
    "#calculating theoretical dR\n",
    "dR = R_exp *((dB**2 + dA**2)/colorDiff**2 + (R_exp/colorDiff)**2 *(dD**2 + dC**2))**0.5"
   ]
  },
  {
   "cell_type": "code",
   "execution_count": null,
   "metadata": {
    "colab": {},
    "colab_type": "code",
    "id": "sPCdsLuhNtHU"
   },
   "outputs": [],
   "source": []
  },
  {
   "cell_type": "markdown",
   "metadata": {
    "colab_type": "text",
    "id": "8qSH1eItPYMs"
   },
   "source": [
    "This function takes a vector of values and a vector of associated uncertainties and returns an array of n = numVals samples selected randomly from a normal  probability distribution."
   ]
  },
  {
   "cell_type": "code",
   "execution_count": 29,
   "metadata": {
    "colab": {},
    "colab_type": "code",
    "id": "R6BBvp4zNtHX"
   },
   "outputs": [],
   "source": [
    "#choosing random data sets for each star type\n",
    "def ndNormalData(mean, sigma, numVals):\n",
    "    if (mean.shape != sigma.shape):\n",
    "        print(\"Arrays must be same size\")\n",
    "        return\n",
    "    if (mean.ndim == 1):\n",
    "        data = np.array(\n",
    "            [npRand.normal(m, s, numVals) for m, s in zip(mean, sigma)]\n",
    "        )\n",
    "        return data\n",
    "    \n",
    "    data = np.array(\n",
    "        [ndNormalData(m, s, numVals) for m, s in zip(mean, sigma)]\n",
    "    )\n",
    "    return data"
   ]
  },
  {
   "cell_type": "code",
   "execution_count": 30,
   "metadata": {
    "colab": {},
    "colab_type": "code",
    "id": "42I5Fm77NtHZ"
   },
   "outputs": [],
   "source": [
    "B_vals = ndNormalData(B, dB, numVals)\n",
    "D_vals = ndNormalData(D, dD, numVals)\n",
    "A_vals = ndNormalData(A, dA, numVals)\n",
    "C_vals = ndNormalData(C, dC, numVals)"
   ]
  },
  {
   "cell_type": "code",
   "execution_count": null,
   "metadata": {
    "colab": {},
    "colab_type": "code",
    "id": "rPy5nKcDNtHc"
   },
   "outputs": [],
   "source": []
  },
  {
   "cell_type": "code",
   "execution_count": null,
   "metadata": {
    "colab": {},
    "colab_type": "code",
    "id": "p5bnGFLtNtHf"
   },
   "outputs": [],
   "source": []
  },
  {
   "cell_type": "code",
   "execution_count": 31,
   "metadata": {
    "colab": {},
    "colab_type": "code",
    "id": "Rt9Fz0F0NtHi"
   },
   "outputs": [
    {
     "data": {
      "text/plain": [
       "(135, 100, 1000)"
      ]
     },
     "execution_count": 31,
     "metadata": {},
     "output_type": "execute_result"
    }
   ],
   "source": [
    "#calculating the \"Monte Carlo\" values for R and dR\n",
    "R_vals = (A_vals - B_vals) / (C_vals - D_vals)\n",
    "R_vals.shape"
   ]
  },
  {
   "cell_type": "markdown",
   "metadata": {
    "colab_type": "text",
    "id": "fvS2KtOMS29z"
   },
   "source": [
    "Now, we can test the distributions of R."
   ]
  },
  {
   "cell_type": "code",
   "execution_count": 32,
   "metadata": {
    "colab": {},
    "colab_type": "code",
    "id": "WBmPLyv7TV0Q"
   },
   "outputs": [],
   "source": [
    "R_mc = np.mean(R_vals, axis=2)\n",
    "dR_mc = np.std(R_vals, axis=2)"
   ]
  },
  {
   "cell_type": "code",
   "execution_count": 36,
   "metadata": {
    "colab": {
     "base_uri": "https://localhost:8080/",
     "height": 282
    },
    "colab_type": "code",
    "id": "PZRywdePS1ol",
    "outputId": "a0064556-4624-49af-db0f-2650ea086bbc",
    "scrolled": true
   },
   "outputs": [
    {
     "data": {
      "application/vnd.jupyter.widget-view+json": {
       "model_id": "877aafd4bad546f2ac4818eec01e4c2a",
       "version_major": 2,
       "version_minor": 0
      },
      "text/plain": [
       "interactive(children=(FloatSlider(value=1.55, description='colorDiffval', max=3.0, min=0.1, step=0.05), Output…"
      ]
     },
     "metadata": {},
     "output_type": "display_data"
    },
    {
     "data": {
      "text/plain": [
       "<function __main__.plot_data(colorDiffval)>"
      ]
     },
     "execution_count": 36,
     "metadata": {},
     "output_type": "execute_result"
    }
   ],
   "source": [
    "colorDiffinit = (colorDiffmin + colorDiffmax) /2\n",
    "\n",
    "def findIndex(colorDiffval):\n",
    "    step = (colorDiffmax - colorDiffmin) / (numSteps-1)\n",
    "    result = (colorDiffval - colorDiffmin) / step\n",
    "    return int(result)\n",
    "\n",
    "def plot_data(colorDiffval):\n",
    "    x = np.array(starData['g-i'])\n",
    "    R = np.linspace(R_exp,R_exp,n)\n",
    "    \n",
    "    fig = plt.figure(figsize=(8, 5))\n",
    "\n",
    "    red_ax = plt.axes([0.1, 0.2, 0.8, 0.65])\n",
    "    \n",
    "    plt.ylim([1,3])\n",
    "    plt.title('Mean Reddening Across Star Types')\n",
    "    plt.xlabel('g-i mag')\n",
    "    plt.ylabel('R')\n",
    "    \n",
    "    plt.errorbar(x, R_mc[:, findIndex(colorDiffval)], yerr=dR_mc[:, findIndex(colorDiffval)], fmt='ro')\n",
    "    plt.plot(x, R, \"b--\")\n",
    "    plt.plot(x, R + dR[:, findIndex(colorDiffval)], 'b--')\n",
    "    plt.plot(x, R - dR[:, findIndex(colorDiffval)], 'b--')\n",
    "    plt.show()\n",
    "    \n",
    "interact(plot_data, colorDiffval=FloatSlider(colorDiffinit, min=colorDiffmin, max=colorDiffmax, step=0.05))\n"
   ]
  },
  {
   "cell_type": "markdown",
   "metadata": {
    "colab_type": "text",
    "id": "Yc1d2lUnUOSx"
   },
   "source": [
    "Ideas going forward:\n",
    "* Calculate the uncertainty in the mean.\n",
    "* Try a weighted mean\n",
    "\n"
   ]
  },
  {
   "cell_type": "code",
   "execution_count": 18,
   "metadata": {},
   "outputs": [],
   "source": [
    "#Defines binning of data to evenly space bins close to the mean\n",
    "#and group the outer bins together. This avoids an expected bincount of 0\n",
    "#for calculating chi-squared.\n",
    "def customBinning(data, numBins=20, dataWidth=8):\n",
    "    low = dataMin = min(data)\n",
    "    high = dataMax = max(data)\n",
    "    mean = np.mean(data)\n",
    "    stdev = np.std(data)\n",
    "    \n",
    "    if (dataMin < mean - dataWidth * stdev):\n",
    "        numBins = numBins - 1\n",
    "        low = mean - dataWidth * stdev\n",
    "    if (dataMax > mean + dataWidth * stdev):\n",
    "        numBins = numBins - 1\n",
    "        high = mean + dataWidth * stdev\n",
    "    \n",
    "    bins = np.linspace(low, high, numBins + 1)\n",
    "    \n",
    "    if (dataMin != low):\n",
    "        bins = np.concatenate((dataMin, bins), axis = None)\n",
    "    if (dataMax != high):\n",
    "        bins = np.concatenate((bins, dataMax), axis = None)\n",
    "    \n",
    "    return bins\n",
    "\n",
    "def ndHistogramCounts(Vals, numBins):\n",
    "    if (Vals.ndim == 1):\n",
    "        bins = customBinning(Vals, numBins)\n",
    "        counts, Bins = np.histogram(Vals, bins)\n",
    "        return counts\n",
    "    \n",
    "    results = np.stack(\n",
    "        ndHistogramCounts(vals, numBins) for vals in Vals\n",
    "    )\n",
    "    \n",
    "    return results\n",
    "\n",
    "def ndHistogramBins(Vals, numBins):\n",
    "    if (Vals.ndim == 1):\n",
    "        bins = customBinning(Vals, numBins)\n",
    "        #counts, Bins = np.histogram(Vals, bins)\n",
    "        return bins\n",
    "    \n",
    "    results = np.stack(\n",
    "        ndHistogramBins(vals, numBins) for vals in Vals\n",
    "    )\n",
    "    \n",
    "    return results\n",
    "\n",
    "def ndNormalCounts(mean, sigma, Bins):\n",
    "    if (mean.shape != sigma.shape):\n",
    "        print(\"Arrays must be same shape\")\n",
    "        return\n",
    "    \n",
    "    if (mean.ndim == 1):\n",
    "        counts = np.diff(np.stack(\n",
    "            stats.norm.cdf(bins, m, s) for bins, m, s in zip(Bins, mean, sigma)\n",
    "        ))\n",
    "        return counts\n",
    "    \n",
    "    counts = np.stack(\n",
    "        ndNormalCounts(m, s, bins) for m, s, bins in zip(mean, sigma, Bins)\n",
    "    )\n",
    "    return counts\n"
   ]
  },
  {
   "cell_type": "code",
   "execution_count": null,
   "metadata": {},
   "outputs": [],
   "source": []
  },
  {
   "cell_type": "code",
   "execution_count": 19,
   "metadata": {
    "colab": {},
    "colab_type": "code",
    "id": "pOIKC-ICNtHo"
   },
   "outputs": [],
   "source": [
    "#Next I need to test \"Goodness of fit\"\n",
    "numBins = 20\n",
    "counts = ndHistogramCounts(R_vals, numBins)\n",
    "Bins = ndHistogramBins(R_vals, numBins)\n",
    "\n",
    "#calc expected with stats cdf and np.diff\n",
    "exp = ndNormalCounts(R_mc, dR_mc, Bins)\n",
    "\n",
    "#scale expected percentages by sample size\n",
    "exp = numVals * exp\n",
    "\n",
    "#Now calculate the Chi^2 values:\n",
    "chi2 = np.sum(( (counts - exp)**2 / exp), axis=2)"
   ]
  },
  {
   "cell_type": "code",
   "execution_count": null,
   "metadata": {},
   "outputs": [],
   "source": []
  },
  {
   "cell_type": "code",
   "execution_count": 20,
   "metadata": {
    "colab": {},
    "colab_type": "code",
    "id": "k-cTKn2LNtHm"
   },
   "outputs": [],
   "source": [
    "#Constraints in this case are the calculated mean, stdev, and total number of counts\n",
    "c = 3\n",
    "d = numBins - c\n",
    "red_chi2 = chi2/d"
   ]
  },
  {
   "cell_type": "code",
   "execution_count": null,
   "metadata": {},
   "outputs": [],
   "source": []
  },
  {
   "cell_type": "code",
   "execution_count": null,
   "metadata": {},
   "outputs": [],
   "source": []
  },
  {
   "cell_type": "code",
   "execution_count": null,
   "metadata": {},
   "outputs": [],
   "source": []
  }
 ],
 "metadata": {
  "colab": {
   "include_colab_link": true,
   "name": "MonteCarloModeling.ipynb",
   "provenance": [],
   "version": "0.3.2"
  },
  "kernelspec": {
   "display_name": "Python 3",
   "language": "python",
   "name": "python3"
  },
  "language_info": {
   "codemirror_mode": {
    "name": "ipython",
    "version": 3
   },
   "file_extension": ".py",
   "mimetype": "text/x-python",
   "name": "python",
   "nbconvert_exporter": "python",
   "pygments_lexer": "ipython3",
   "version": "3.6.5"
  }
 },
 "nbformat": 4,
 "nbformat_minor": 1
}
