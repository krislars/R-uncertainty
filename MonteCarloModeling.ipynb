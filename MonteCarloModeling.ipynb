{
 "cells": [
  {
   "cell_type": "markdown",
   "metadata": {
    "colab_type": "text",
    "id": "view-in-github"
   },
   "source": [
    "<a href=\"https://colab.research.google.com/github/krislars/R-uncertainty/blob/master/MonteCarloModeling.ipynb\" target=\"_parent\"><img src=\"https://colab.research.google.com/assets/colab-badge.svg\" alt=\"Open In Colab\"/></a>"
   ]
  },
  {
   "cell_type": "code",
   "execution_count": 36,
   "metadata": {
    "colab": {},
    "colab_type": "code",
    "id": "oHvCxXOdNtG6"
   },
   "outputs": [],
   "source": [
    "import random\n",
    "import numpy as np\n",
    "import numpy.random as npRand\n",
    "from matplotlib import pyplot as plt\n",
    "import scipy.stats as stats"
   ]
  },
  {
   "cell_type": "code",
   "execution_count": 37,
   "metadata": {
    "colab": {},
    "colab_type": "code",
    "id": "glTrrResNtHK"
   },
   "outputs": [],
   "source": [
    "%matplotlib inline"
   ]
  },
  {
   "cell_type": "code",
   "execution_count": null,
   "metadata": {
    "colab": {},
    "colab_type": "code",
    "id": "x_ueJHiSNtHM"
   },
   "outputs": [],
   "source": []
  },
  {
   "cell_type": "markdown",
   "metadata": {
    "colab_type": "text",
    "id": "p9jN6cgBO7nI"
   },
   "source": [
    "Data file format is intrinsic stellar H-K, sigma H-K, J-H, sigma J-H ... \n",
    "Davenport, J. R., Ivezic, Z., Becker, A. C., Ruan, J. J., Hunt-Walker, N. M., Covey, K. R., & Lewis, A. R. (2014, June). The SDSS-2MASS-WISE 10-dimensional stellar colour locus [Electronic version]. MNRAS, 440(4), 3430-3438."
   ]
  },
  {
   "cell_type": "code",
   "execution_count": 38,
   "metadata": {
    "colab": {},
    "colab_type": "code",
    "id": "vYlpPR9aNtHP"
   },
   "outputs": [],
   "source": [
    "starData = np.loadtxt(\"https://raw.githubusercontent.com/krislars/R-uncertainty/master/Astro%20Lab%20Star%20Data.txt\")\n",
    "starData = np.transpose(starData)\n",
    "B, dB = starData[0], starData[1]\n",
    "D, dD = starData[2], starData[3]"
   ]
  },
  {
   "cell_type": "markdown",
   "metadata": {
    "colab_type": "text",
    "id": "5OFMufD1PQLo"
   },
   "source": [
    "This next line is propagation of error in an arithmetic function."
   ]
  },
  {
   "cell_type": "code",
   "execution_count": 39,
   "metadata": {
    "colab": {},
    "colab_type": "code",
    "id": "UfbjC0rcNtHR"
   },
   "outputs": [],
   "source": [
    "#calculating theoretical dR\n",
    "dR = 1.6 *(dB**2 + .02**2 + 1.6 *(dD**2 + .02**2))**0.5"
   ]
  },
  {
   "cell_type": "code",
   "execution_count": null,
   "metadata": {
    "colab": {},
    "colab_type": "code",
    "id": "sPCdsLuhNtHU"
   },
   "outputs": [],
   "source": []
  },
  {
   "cell_type": "markdown",
   "metadata": {
    "colab_type": "text",
    "id": "8qSH1eItPYMs"
   },
   "source": [
    "This function takes a vector of values and a vector of associated uncertainties and returns an array of n = numVals samples selected randomly from a normal  probability distribution."
   ]
  },
  {
   "cell_type": "code",
   "execution_count": 40,
   "metadata": {
    "colab": {},
    "colab_type": "code",
    "id": "R6BBvp4zNtHX"
   },
   "outputs": [],
   "source": [
    "#choosing random data sets for each star type\n",
    "def getData(mean, sigma, numVals):\n",
    "    data = np.array(\n",
    "        [npRand.normal(m, s, numVals) for m, s in zip(mean, sigma)]\n",
    "    )\n",
    "    return data"
   ]
  },
  {
   "cell_type": "code",
   "execution_count": 41,
   "metadata": {
    "colab": {},
    "colab_type": "code",
    "id": "42I5Fm77NtHZ"
   },
   "outputs": [],
   "source": [
    "B_vals = getData(B, dB, 1000)\n",
    "D_vals = getData(D, dB, 1000)"
   ]
  },
  {
   "cell_type": "markdown",
   "metadata": {
    "colab_type": "text",
    "id": "1njMm2hcQlCz"
   },
   "source": [
    "$$\n",
    "R = \\frac{A-B}{C-D}\n",
    "$$\n",
    "\n",
    "We will choose values such that the numerator is 1.  So, $A=1+B$.  We also choose the value of R to be 1.6, so $C-D=1/1.6$.  Therefore, $C = 1/1.6+D$.\n",
    "\n"
   ]
  },
  {
   "cell_type": "code",
   "execution_count": 42,
   "metadata": {
    "colab": {},
    "colab_type": "code",
    "id": "rPy5nKcDNtHc"
   },
   "outputs": [],
   "source": [
    "A = 1 + B\n",
    "C = 1/1.6 + D\n",
    "dA = dC = np.linspace(0.02, 0.02, 50)\n",
    "A_vals = getData(A, dA, 1000)\n",
    "C_vals = getData(C, dC, 1000)"
   ]
  },
  {
   "cell_type": "code",
   "execution_count": null,
   "metadata": {
    "colab": {},
    "colab_type": "code",
    "id": "p5bnGFLtNtHf"
   },
   "outputs": [],
   "source": []
  },
  {
   "cell_type": "code",
   "execution_count": 43,
   "metadata": {
    "colab": {},
    "colab_type": "code",
    "id": "Rt9Fz0F0NtHi"
   },
   "outputs": [],
   "source": [
    "#calculating the \"Monte Carlo\" values for R and dR\n",
    "R_vals = (A_vals - B_vals) / (C_vals - D_vals)\n"
   ]
  },
  {
   "cell_type": "markdown",
   "metadata": {
    "colab_type": "text",
    "id": "fvS2KtOMS29z"
   },
   "source": [
    "Now, we can test the distributions of R."
   ]
  },
  {
   "cell_type": "code",
   "execution_count": 44,
   "metadata": {
    "colab": {},
    "colab_type": "code",
    "id": "WBmPLyv7TV0Q"
   },
   "outputs": [],
   "source": [
    "R_mc = np.mean(R_vals, axis=1)\n",
    "dR_mc = np.std(R_vals, axis=1)"
   ]
  },
  {
   "cell_type": "code",
   "execution_count": 46,
   "metadata": {
    "colab": {
     "base_uri": "https://localhost:8080/",
     "height": 282
    },
    "colab_type": "code",
    "id": "PZRywdePS1ol",
    "outputId": "a0064556-4624-49af-db0f-2650ea086bbc"
   },
   "outputs": [
    {
     "data": {
      "text/plain": [
       "[<matplotlib.lines.Line2D at 0x1592bf56f28>,\n",
       " <matplotlib.lines.Line2D at 0x1592bf61080>]"
      ]
     },
     "execution_count": 46,
     "metadata": {},
     "output_type": "execute_result"
    },
    {
     "data": {
      "image/png": "[encoded data removed]",
      "text/plain": [
       "<Figure size 432x288 with 1 Axes>"
      ]
     },
     "metadata": {},
     "output_type": "display_data"
    }
   ],
   "source": [
    "#Finding the weighted average of R\n",
    "dR_mean = (dR_mc) / (1000)**0.5\n",
    "w = (dR_mean)**(-2)\n",
    "R_avg = sum(w*R_mc) / sum(w)\n",
    "\n",
    "t = np.linspace(0, 50, 200)\n",
    "y = np.linspace(R_avg, R_avg, 200)\n",
    "\n",
    "plt.plot(R_mc,'ro', t, y, 'b--')"
   ]
  },
  {
   "cell_type": "markdown",
   "metadata": {
    "colab_type": "text",
    "id": "Yc1d2lUnUOSx"
   },
   "source": [
    "Ideas going forward:\n",
    "* Calculate the uncertainty in the mean.\n",
    "* Try a weighted mean\n",
    "* Try making all the errors the same\n",
    "* Try making the errors very small\n",
    "* Test that you are resetting the random number *seed* \n",
    "\n"
   ]
  },
  {
   "cell_type": "code",
   "execution_count": 20,
   "metadata": {
    "colab": {},
    "colab_type": "code",
    "id": "pOIKC-ICNtHo"
   },
   "outputs": [],
   "source": [
    "#Next I need to test \"Goodness of fit\"\n",
    "numBins = 20\n",
    "counts, Bins = zip(*np.stack(\n",
    "    np.histogram(r_vals, numBins) for r_vals in R_vals\n",
    "))\n",
    "    \n",
    "\n",
    "#calc expected with stats cdf and np.diff\n",
    "exp = np.diff(np.stack(\n",
    "    stats.norm.cdf(bins, r_mc, dr_mc) for bins, r_mc, dr_mc in zip(Bins, R_mc, dR_mc)\n",
    "))\n",
    "\n",
    "#scale expected percentages by sample size\n",
    "exp = 1000 * exp\n",
    "\n",
    "#Now calculate the Chi^2 values:\n",
    "chi2 = np.sum(( (counts - exp)**2 / exp), axis=1)\n"
   ]
  },
  {
   "cell_type": "code",
   "execution_count": 21,
   "metadata": {
    "colab": {},
    "colab_type": "code",
    "id": "k-cTKn2LNtHm"
   },
   "outputs": [
    {
     "data": {
      "text/plain": [
       "array([ 0.76176628,  3.4348463 ,  1.05782545,  1.97531645,  1.96874517,\n",
       "        1.55229112,  1.83214328,  1.5952379 ,  1.1522778 ,  7.31462426,\n",
       "        2.77568625,  1.15923502,  1.60659985,  1.77202111,  1.62075879,\n",
       "        1.61328614,  2.57184512,  1.98500509,  0.84762083,  2.94213374,\n",
       "        1.24773386,  1.54913256,  1.12993621,  1.52295318,  2.37438805,\n",
       "        1.07982227,  1.16032063,  1.83825116,  1.3752723 ,  1.4722482 ,\n",
       "        2.18951452,  1.64945568, 21.91207288,  1.90489469,  1.03774201,\n",
       "        1.66315821,  0.9782286 ,  2.11913025,  1.39886444,  0.78343862,\n",
       "        0.90122863,  1.93534642,  0.72376068, 17.20875256,  1.63433757,\n",
       "        3.6241004 ,  1.08853745,  1.32462357,  1.03686613,  1.30621802])"
      ]
     },
     "execution_count": 21,
     "metadata": {},
     "output_type": "execute_result"
    }
   ],
   "source": [
    "chi2/numBins"
   ]
  },
  {
   "cell_type": "code",
   "execution_count": null,
   "metadata": {},
   "outputs": [],
   "source": []
  }
 ],
 "metadata": {
  "colab": {
   "include_colab_link": true,
   "name": "MonteCarloModeling.ipynb",
   "provenance": [],
   "version": "0.3.2"
  },
  "kernelspec": {
   "display_name": "Python 3",
   "language": "python",
   "name": "python3"
  },
  "language_info": {
   "codemirror_mode": {
    "name": "ipython",
    "version": 3
   },
   "file_extension": ".py",
   "mimetype": "text/x-python",
   "name": "python",
   "nbconvert_exporter": "python",
   "pygments_lexer": "ipython3",
   "version": "3.6.5"
  }
 },
 "nbformat": 4,
 "nbformat_minor": 1
}
