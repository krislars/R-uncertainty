{
 "cells": [
  {
   "cell_type": "code",
   "execution_count": 44,
   "metadata": {},
   "outputs": [],
   "source": [
    "import random\n",
    "import numpy as np\n",
    "import numpy.random as npRand\n",
    "import scipy.stats as stats"
   ]
  },
  {
   "cell_type": "code",
   "execution_count": null,
   "metadata": {},
   "outputs": [],
   "source": []
  },
  {
   "cell_type": "code",
   "execution_count": null,
   "metadata": {},
   "outputs": [],
   "source": []
  },
  {
   "cell_type": "code",
   "execution_count": 45,
   "metadata": {},
   "outputs": [],
   "source": [
    "starData = np.loadtxt(\"Astro Lab Star Data.txt\")\n",
    "starData = np.transpose(starData)\n",
    "B, dB = starData[0], starData[1]\n",
    "D, dD = starData[2], starData[3]"
   ]
  },
  {
   "cell_type": "code",
   "execution_count": 46,
   "metadata": {},
   "outputs": [],
   "source": [
    "#calculating theoretical dR\n",
    "dR = 1.6 *(dB**2 + .02**2 + 1.6 *(dD**2 + .02**2))**0.5"
   ]
  },
  {
   "cell_type": "code",
   "execution_count": null,
   "metadata": {},
   "outputs": [],
   "source": []
  },
  {
   "cell_type": "code",
   "execution_count": 47,
   "metadata": {},
   "outputs": [],
   "source": [
    "#choosing random data sets for each star type\n",
    "def getData(mean, sigma, numVals):\n",
    "    data = np.array(\n",
    "        [npRand.normal(m, s, numVals) for m, s in zip(mean, sigma)]\n",
    "    )\n",
    "    return data"
   ]
  },
  {
   "cell_type": "code",
   "execution_count": 54,
   "metadata": {},
   "outputs": [],
   "source": [
    "B_vals = getData(B, dB, 1000)\n",
    "D_vals = getData(D, dD, 1000)"
   ]
  },
  {
   "cell_type": "code",
   "execution_count": 55,
   "metadata": {},
   "outputs": [],
   "source": [
    "A = 1 + B\n",
    "C = 1/1.6 + D\n",
    "dA = dC = np.linspace(0.02, 0.02, 50)\n",
    "A_vals = getData(A, dA, 1000)\n",
    "C_vals = getData(C, dC, 1000)"
   ]
  },
  {
   "cell_type": "code",
   "execution_count": null,
   "metadata": {},
   "outputs": [],
   "source": []
  },
  {
   "cell_type": "code",
   "execution_count": 56,
   "metadata": {},
   "outputs": [],
   "source": [
    "#calculating the \"Monte Carlo\" values for R and dR\n",
    "R_vals = (A_vals - B_vals) / (C_vals - D_vals)\n",
    "R_mc = np.mean(R_vals, axis=1)\n",
    "dR_mc = np.std(R_vals, axis=1)"
   ]
  },
  {
   "cell_type": "code",
   "execution_count": null,
   "metadata": {},
   "outputs": [],
   "source": []
  },
  {
   "cell_type": "code",
   "execution_count": 57,
   "metadata": {},
   "outputs": [],
   "source": [
    "#Next I need to test \"Goodness of fit\"\n",
    "numBins = 20\n",
    "counts, Bins = zip(*np.stack(\n",
    "    np.histogram(r_vals, numBins) for r_vals in R_vals\n",
    "))\n",
    "    \n",
    "\n",
    "#calc expected with stats cdf and np.diff\n",
    "exp = np.diff(np.stack(\n",
    "    stats.norm.cdf(bins, r_mc, dr_mc) for bins, r_mc, dr_mc in zip(Bins, R_mc, dR_mc)\n",
    "))\n",
    "\n",
    "#scale expected percentages by sample size\n",
    "exp = 1000 * exp\n",
    "\n",
    "#Now calculate the Chi^2 values:\n",
    "chi2 = np.sum(( (counts - exp)**2 / exp), axis=1)"
   ]
  },
  {
   "cell_type": "code",
   "execution_count": 58,
   "metadata": {},
   "outputs": [
    {
     "data": {
      "text/plain": [
       "array([2.93779970e+00, 8.02451690e+00, 2.70574709e+00, 2.04639596e+00,\n",
       "       1.00273578e+02, 1.15917103e+01, 3.47739000e+00, 2.95159416e+00,\n",
       "       1.90359109e+00, 5.01579344e+00, 3.06089460e+00, 8.30147423e+00,\n",
       "       1.61663433e+00, 5.69235804e+01, 3.37583327e+00, 2.60224684e+00,\n",
       "       2.56231675e+00, 4.46956366e+00, 1.05856528e+00, 3.02828467e+00,\n",
       "       1.61243200e+00, 4.35591471e+00, 1.30163951e+01, 1.61668572e+01,\n",
       "       1.56755765e+00, 5.17430921e+00, 1.94539079e+00, 2.57433880e+00,\n",
       "       2.32948213e+00, 2.19254866e+00, 2.92690647e+00, 4.43498311e+01,\n",
       "       1.71393151e+03, 4.41512754e+00, 1.30092531e+00, 3.22117075e+00,\n",
       "       1.22771168e+02, 4.29671141e+00, 3.09892498e+00, 2.92597244e+00,\n",
       "       2.49155282e+00, 2.60382971e+00, 4.66739007e+00, 1.93089091e+00,\n",
       "       2.83965713e+00, 5.55649210e+00, 9.42096003e-01, 1.51968616e+00,\n",
       "       1.71126750e+00, 5.97986464e+00])"
      ]
     },
     "execution_count": 58,
     "metadata": {},
     "output_type": "execute_result"
    }
   ],
   "source": [
    "chi2/numBins"
   ]
  },
  {
   "cell_type": "code",
   "execution_count": null,
   "metadata": {},
   "outputs": [],
   "source": []
  }
 ],
 "metadata": {
  "kernelspec": {
   "display_name": "Python 3",
   "language": "python",
   "name": "python3"
  },
  "language_info": {
   "codemirror_mode": {
    "name": "ipython",
    "version": 3
   },
   "file_extension": ".py",
   "mimetype": "text/x-python",
   "name": "python",
   "nbconvert_exporter": "python",
   "pygments_lexer": "ipython3",
   "version": "3.6.5"
  }
 },
 "nbformat": 4,
 "nbformat_minor": 2
}
